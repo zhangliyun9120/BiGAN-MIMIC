{
 "cells": [
  {
   "cell_type": "code",
   "execution_count": 1,
   "metadata": {},
   "outputs": [],
   "source": [
    "import json\n",
    "#import _cvxcore\n",
    "#import cvxpy\n",
    "import fancyimpute\n",
    "from fancyimpute import KNN, NuclearNormMinimization, SoftImpute, BiScaler,SimpleFill\n",
    "import numpy as np\n",
    "import pandas as pd\n",
    "import random\n",
    "from sklearn.experimental import enable_iterative_imputer\n",
    "from sklearn.impute import IterativeImputer\n",
    "import pickle\n",
    "from datetime import timedelta\n",
    "from datetime import datetime"
   ]
  },
  {
   "cell_type": "code",
   "execution_count": 2,
   "metadata": {},
   "outputs": [],
   "source": [
    "activity=pd.read_csv('.../aaai/data/air/initial/AirQualityUCI.csv',header=0)"
   ]
  },
  {
   "cell_type": "code",
   "execution_count": 3,
   "metadata": {},
   "outputs": [
    {
     "data": {
      "text/html": [
       "<div>\n",
       "<style scoped>\n",
       "    .dataframe tbody tr th:only-of-type {\n",
       "        vertical-align: middle;\n",
       "    }\n",
       "\n",
       "    .dataframe tbody tr th {\n",
       "        vertical-align: top;\n",
       "    }\n",
       "\n",
       "    .dataframe thead th {\n",
       "        text-align: right;\n",
       "    }\n",
       "</style>\n",
       "<table border=\"1\" class=\"dataframe\">\n",
       "  <thead>\n",
       "    <tr style=\"text-align: right;\">\n",
       "      <th></th>\n",
       "      <th>Date</th>\n",
       "      <th>Time</th>\n",
       "      <th>Month</th>\n",
       "      <th>CO(GT)</th>\n",
       "      <th>PT08.S1(CO)</th>\n",
       "      <th>NMHC(GT)</th>\n",
       "      <th>C6H6(GT)</th>\n",
       "      <th>PT08.S2(NMHC)</th>\n",
       "      <th>NOx(GT)</th>\n",
       "      <th>PT08.S3(NOx)</th>\n",
       "      <th>NO2(GT)</th>\n",
       "      <th>PT08.S4(NO2)</th>\n",
       "      <th>PT08.S5(O3)</th>\n",
       "      <th>T</th>\n",
       "      <th>RH</th>\n",
       "      <th>AH</th>\n",
       "    </tr>\n",
       "  </thead>\n",
       "  <tbody>\n",
       "    <tr>\n",
       "      <th>0</th>\n",
       "      <td>3/10/2004</td>\n",
       "      <td>18:00:00</td>\n",
       "      <td>3</td>\n",
       "      <td>2.6</td>\n",
       "      <td>1360</td>\n",
       "      <td>150</td>\n",
       "      <td>11.9</td>\n",
       "      <td>1046</td>\n",
       "      <td>166</td>\n",
       "      <td>1056</td>\n",
       "      <td>113</td>\n",
       "      <td>1692</td>\n",
       "      <td>1268</td>\n",
       "      <td>13.6</td>\n",
       "      <td>48.9</td>\n",
       "      <td>0.7578</td>\n",
       "    </tr>\n",
       "    <tr>\n",
       "      <th>1</th>\n",
       "      <td>3/10/2004</td>\n",
       "      <td>19:00:00</td>\n",
       "      <td>3</td>\n",
       "      <td>2.0</td>\n",
       "      <td>1292</td>\n",
       "      <td>112</td>\n",
       "      <td>9.4</td>\n",
       "      <td>955</td>\n",
       "      <td>103</td>\n",
       "      <td>1174</td>\n",
       "      <td>92</td>\n",
       "      <td>1559</td>\n",
       "      <td>972</td>\n",
       "      <td>13.3</td>\n",
       "      <td>47.7</td>\n",
       "      <td>0.7255</td>\n",
       "    </tr>\n",
       "    <tr>\n",
       "      <th>2</th>\n",
       "      <td>3/10/2004</td>\n",
       "      <td>20:00:00</td>\n",
       "      <td>3</td>\n",
       "      <td>2.2</td>\n",
       "      <td>1402</td>\n",
       "      <td>88</td>\n",
       "      <td>9.0</td>\n",
       "      <td>939</td>\n",
       "      <td>131</td>\n",
       "      <td>1140</td>\n",
       "      <td>114</td>\n",
       "      <td>1555</td>\n",
       "      <td>1074</td>\n",
       "      <td>11.9</td>\n",
       "      <td>54.0</td>\n",
       "      <td>0.7502</td>\n",
       "    </tr>\n",
       "    <tr>\n",
       "      <th>3</th>\n",
       "      <td>3/10/2004</td>\n",
       "      <td>21:00:00</td>\n",
       "      <td>3</td>\n",
       "      <td>2.2</td>\n",
       "      <td>1376</td>\n",
       "      <td>80</td>\n",
       "      <td>9.2</td>\n",
       "      <td>948</td>\n",
       "      <td>172</td>\n",
       "      <td>1092</td>\n",
       "      <td>122</td>\n",
       "      <td>1584</td>\n",
       "      <td>1203</td>\n",
       "      <td>11.0</td>\n",
       "      <td>60.0</td>\n",
       "      <td>0.7867</td>\n",
       "    </tr>\n",
       "    <tr>\n",
       "      <th>4</th>\n",
       "      <td>3/10/2004</td>\n",
       "      <td>22:00:00</td>\n",
       "      <td>3</td>\n",
       "      <td>1.6</td>\n",
       "      <td>1272</td>\n",
       "      <td>51</td>\n",
       "      <td>6.5</td>\n",
       "      <td>836</td>\n",
       "      <td>131</td>\n",
       "      <td>1205</td>\n",
       "      <td>116</td>\n",
       "      <td>1490</td>\n",
       "      <td>1110</td>\n",
       "      <td>11.2</td>\n",
       "      <td>59.6</td>\n",
       "      <td>0.7888</td>\n",
       "    </tr>\n",
       "  </tbody>\n",
       "</table>\n",
       "</div>"
      ],
      "text/plain": [
       "        Date      Time  Month  CO(GT)  PT08.S1(CO)  NMHC(GT)  C6H6(GT)  \\\n",
       "0  3/10/2004  18:00:00      3     2.6         1360       150      11.9   \n",
       "1  3/10/2004  19:00:00      3     2.0         1292       112       9.4   \n",
       "2  3/10/2004  20:00:00      3     2.2         1402        88       9.0   \n",
       "3  3/10/2004  21:00:00      3     2.2         1376        80       9.2   \n",
       "4  3/10/2004  22:00:00      3     1.6         1272        51       6.5   \n",
       "\n",
       "   PT08.S2(NMHC)  NOx(GT)  PT08.S3(NOx)  NO2(GT)  PT08.S4(NO2)  PT08.S5(O3)  \\\n",
       "0           1046      166          1056      113          1692         1268   \n",
       "1            955      103          1174       92          1559          972   \n",
       "2            939      131          1140      114          1555         1074   \n",
       "3            948      172          1092      122          1584         1203   \n",
       "4            836      131          1205      116          1490         1110   \n",
       "\n",
       "      T    RH      AH  \n",
       "0  13.6  48.9  0.7578  \n",
       "1  13.3  47.7  0.7255  \n",
       "2  11.9  54.0  0.7502  \n",
       "3  11.0  60.0  0.7867  \n",
       "4  11.2  59.6  0.7888  "
      ]
     },
     "execution_count": 3,
     "metadata": {},
     "output_type": "execute_result"
    }
   ],
   "source": [
    "activity.head()"
   ]
  },
  {
   "cell_type": "code",
   "execution_count": 44,
   "metadata": {},
   "outputs": [
    {
     "data": {
      "text/plain": [
       "Date             0\n",
       "Time             0\n",
       "Month            0\n",
       "CO(GT)           0\n",
       "PT08.S1(CO)      0\n",
       "NMHC(GT)         0\n",
       "C6H6(GT)         0\n",
       "PT08.S2(NMHC)    0\n",
       "NOx(GT)          0\n",
       "PT08.S3(NOx)     0\n",
       "NO2(GT)          0\n",
       "PT08.S4(NO2)     0\n",
       "PT08.S5(O3)      0\n",
       "T                0\n",
       "RH               0\n",
       "AH               0\n",
       "dtype: int64"
      ]
     },
     "execution_count": 44,
     "metadata": {},
     "output_type": "execute_result"
    }
   ],
   "source": [
    "activity.isna().sum()"
   ]
  },
  {
   "cell_type": "code",
   "execution_count": 45,
   "metadata": {},
   "outputs": [
    {
     "data": {
      "text/plain": [
       "(9357, 16)"
      ]
     },
     "execution_count": 45,
     "metadata": {},
     "output_type": "execute_result"
    }
   ],
   "source": [
    "activity.shape"
   ]
  },
  {
   "cell_type": "code",
   "execution_count": 4,
   "metadata": {},
   "outputs": [],
   "source": [
    "rows = activity.groupby('Month').count()['Date']%20"
   ]
  },
  {
   "cell_type": "code",
   "execution_count": 5,
   "metadata": {},
   "outputs": [
    {
     "data": {
      "text/plain": [
       "Month\n",
       "3     10\n",
       "4      0\n",
       "5      4\n",
       "6      0\n",
       "7      4\n",
       "8      4\n",
       "9      0\n",
       "10     4\n",
       "11     0\n",
       "12     4\n",
       "13     4\n",
       "14    12\n",
       "15     4\n",
       "16     7\n",
       "Name: Date, dtype: int64"
      ]
     },
     "execution_count": 5,
     "metadata": {},
     "output_type": "execute_result"
    }
   ],
   "source": [
    "rows"
   ]
  },
  {
   "cell_type": "code",
   "execution_count": 6,
   "metadata": {},
   "outputs": [],
   "source": [
    "rows=pd.DataFrame(rows)"
   ]
  },
  {
   "cell_type": "code",
   "execution_count": 7,
   "metadata": {},
   "outputs": [],
   "source": [
    "rows=rows.reset_index()"
   ]
  },
  {
   "cell_type": "code",
   "execution_count": 8,
   "metadata": {},
   "outputs": [],
   "source": [
    "final=pd.DataFrame()\n",
    "for seq in range(rows.shape[0]):\n",
    "    #print(rows.iloc[seq,0])\n",
    "    #print(rows.iloc[seq,1])\n",
    "    \n",
    "    temp=activity[activity['Month']==rows.iloc[seq,0]]\n",
    "    #print(temp.shape)\n",
    "    nrows = temp.shape[0]-rows.iloc[seq,1]\n",
    "    temp=temp.iloc[0:nrows,:]\n",
    "    #print(temp.shape)\n",
    "    #print(temp.shape[0]%20)\n",
    "    final=pd.concat([final,temp])"
   ]
  },
  {
   "cell_type": "code",
   "execution_count": 9,
   "metadata": {},
   "outputs": [
    {
     "data": {
      "text/plain": [
       "(9300, 16)"
      ]
     },
     "execution_count": 9,
     "metadata": {},
     "output_type": "execute_result"
    }
   ],
   "source": [
    "final.shape"
   ]
  },
  {
   "cell_type": "code",
   "execution_count": 10,
   "metadata": {},
   "outputs": [
    {
     "data": {
      "text/plain": [
       "Month\n",
       "3     0\n",
       "4     0\n",
       "5     0\n",
       "6     0\n",
       "7     0\n",
       "8     0\n",
       "9     0\n",
       "10    0\n",
       "11    0\n",
       "12    0\n",
       "13    0\n",
       "14    0\n",
       "15    0\n",
       "16    0\n",
       "Name: Date, dtype: int64"
      ]
     },
     "execution_count": 10,
     "metadata": {},
     "output_type": "execute_result"
    }
   ],
   "source": [
    "final.groupby('Month').count()['Date']%20"
   ]
  },
  {
   "cell_type": "code",
   "execution_count": 53,
   "metadata": {},
   "outputs": [],
   "source": [
    "#print(maskTrain['interval'].isna().sum())\n",
    "#print(activityTrain['Time'].isna().sum())"
   ]
  },
  {
   "cell_type": "code",
   "execution_count": 11,
   "metadata": {},
   "outputs": [
    {
     "data": {
      "text/html": [
       "<div>\n",
       "<style scoped>\n",
       "    .dataframe tbody tr th:only-of-type {\n",
       "        vertical-align: middle;\n",
       "    }\n",
       "\n",
       "    .dataframe tbody tr th {\n",
       "        vertical-align: top;\n",
       "    }\n",
       "\n",
       "    .dataframe thead th {\n",
       "        text-align: right;\n",
       "    }\n",
       "</style>\n",
       "<table border=\"1\" class=\"dataframe\">\n",
       "  <thead>\n",
       "    <tr style=\"text-align: right;\">\n",
       "      <th></th>\n",
       "      <th>Date</th>\n",
       "      <th>Time</th>\n",
       "      <th>Month</th>\n",
       "      <th>CO(GT)</th>\n",
       "      <th>PT08.S1(CO)</th>\n",
       "      <th>NMHC(GT)</th>\n",
       "      <th>C6H6(GT)</th>\n",
       "      <th>PT08.S2(NMHC)</th>\n",
       "      <th>NOx(GT)</th>\n",
       "      <th>PT08.S3(NOx)</th>\n",
       "      <th>NO2(GT)</th>\n",
       "      <th>PT08.S4(NO2)</th>\n",
       "      <th>PT08.S5(O3)</th>\n",
       "      <th>T</th>\n",
       "      <th>RH</th>\n",
       "      <th>AH</th>\n",
       "    </tr>\n",
       "  </thead>\n",
       "  <tbody>\n",
       "    <tr>\n",
       "      <th>0</th>\n",
       "      <td>3/10/2004</td>\n",
       "      <td>18:00:00</td>\n",
       "      <td>3</td>\n",
       "      <td>2.6</td>\n",
       "      <td>1360</td>\n",
       "      <td>150</td>\n",
       "      <td>11.9</td>\n",
       "      <td>1046</td>\n",
       "      <td>166</td>\n",
       "      <td>1056</td>\n",
       "      <td>113</td>\n",
       "      <td>1692</td>\n",
       "      <td>1268</td>\n",
       "      <td>13.6</td>\n",
       "      <td>48.9</td>\n",
       "      <td>0.7578</td>\n",
       "    </tr>\n",
       "    <tr>\n",
       "      <th>1</th>\n",
       "      <td>3/10/2004</td>\n",
       "      <td>19:00:00</td>\n",
       "      <td>3</td>\n",
       "      <td>2.0</td>\n",
       "      <td>1292</td>\n",
       "      <td>112</td>\n",
       "      <td>9.4</td>\n",
       "      <td>955</td>\n",
       "      <td>103</td>\n",
       "      <td>1174</td>\n",
       "      <td>92</td>\n",
       "      <td>1559</td>\n",
       "      <td>972</td>\n",
       "      <td>13.3</td>\n",
       "      <td>47.7</td>\n",
       "      <td>0.7255</td>\n",
       "    </tr>\n",
       "    <tr>\n",
       "      <th>2</th>\n",
       "      <td>3/10/2004</td>\n",
       "      <td>20:00:00</td>\n",
       "      <td>3</td>\n",
       "      <td>2.2</td>\n",
       "      <td>1402</td>\n",
       "      <td>88</td>\n",
       "      <td>9.0</td>\n",
       "      <td>939</td>\n",
       "      <td>131</td>\n",
       "      <td>1140</td>\n",
       "      <td>114</td>\n",
       "      <td>1555</td>\n",
       "      <td>1074</td>\n",
       "      <td>11.9</td>\n",
       "      <td>54.0</td>\n",
       "      <td>0.7502</td>\n",
       "    </tr>\n",
       "    <tr>\n",
       "      <th>3</th>\n",
       "      <td>3/10/2004</td>\n",
       "      <td>21:00:00</td>\n",
       "      <td>3</td>\n",
       "      <td>2.2</td>\n",
       "      <td>1376</td>\n",
       "      <td>80</td>\n",
       "      <td>9.2</td>\n",
       "      <td>948</td>\n",
       "      <td>172</td>\n",
       "      <td>1092</td>\n",
       "      <td>122</td>\n",
       "      <td>1584</td>\n",
       "      <td>1203</td>\n",
       "      <td>11.0</td>\n",
       "      <td>60.0</td>\n",
       "      <td>0.7867</td>\n",
       "    </tr>\n",
       "    <tr>\n",
       "      <th>4</th>\n",
       "      <td>3/10/2004</td>\n",
       "      <td>22:00:00</td>\n",
       "      <td>3</td>\n",
       "      <td>1.6</td>\n",
       "      <td>1272</td>\n",
       "      <td>51</td>\n",
       "      <td>6.5</td>\n",
       "      <td>836</td>\n",
       "      <td>131</td>\n",
       "      <td>1205</td>\n",
       "      <td>116</td>\n",
       "      <td>1490</td>\n",
       "      <td>1110</td>\n",
       "      <td>11.2</td>\n",
       "      <td>59.6</td>\n",
       "      <td>0.7888</td>\n",
       "    </tr>\n",
       "  </tbody>\n",
       "</table>\n",
       "</div>"
      ],
      "text/plain": [
       "        Date      Time  Month  CO(GT)  PT08.S1(CO)  NMHC(GT)  C6H6(GT)  \\\n",
       "0  3/10/2004  18:00:00      3     2.6         1360       150      11.9   \n",
       "1  3/10/2004  19:00:00      3     2.0         1292       112       9.4   \n",
       "2  3/10/2004  20:00:00      3     2.2         1402        88       9.0   \n",
       "3  3/10/2004  21:00:00      3     2.2         1376        80       9.2   \n",
       "4  3/10/2004  22:00:00      3     1.6         1272        51       6.5   \n",
       "\n",
       "   PT08.S2(NMHC)  NOx(GT)  PT08.S3(NOx)  NO2(GT)  PT08.S4(NO2)  PT08.S5(O3)  \\\n",
       "0           1046      166          1056      113          1692         1268   \n",
       "1            955      103          1174       92          1559          972   \n",
       "2            939      131          1140      114          1555         1074   \n",
       "3            948      172          1092      122          1584         1203   \n",
       "4            836      131          1205      116          1490         1110   \n",
       "\n",
       "      T    RH      AH  \n",
       "0  13.6  48.9  0.7578  \n",
       "1  13.3  47.7  0.7255  \n",
       "2  11.9  54.0  0.7502  \n",
       "3  11.0  60.0  0.7867  \n",
       "4  11.2  59.6  0.7888  "
      ]
     },
     "execution_count": 11,
     "metadata": {},
     "output_type": "execute_result"
    }
   ],
   "source": [
    "final.head()"
   ]
  },
  {
   "cell_type": "code",
   "execution_count": 13,
   "metadata": {},
   "outputs": [
    {
     "data": {
      "text/plain": [
       "Month\n",
       "3     500\n",
       "4     720\n",
       "5     740\n",
       "6     720\n",
       "7     740\n",
       "8     740\n",
       "9     720\n",
       "10    740\n",
       "11    720\n",
       "12    740\n",
       "13    740\n",
       "14    660\n",
       "15    740\n",
       "16     80\n",
       "Name: Time, dtype: int64"
      ]
     },
     "execution_count": 13,
     "metadata": {},
     "output_type": "execute_result"
    }
   ],
   "source": [
    "final.groupby('Month').count()['Time']"
   ]
  },
  {
   "cell_type": "code",
   "execution_count": 23,
   "metadata": {},
   "outputs": [
    {
     "data": {
      "text/plain": [
       "Date             1679\n",
       "Time             1679\n",
       "Month            1679\n",
       "CO(GT)           1679\n",
       "PT08.S1(CO)      1679\n",
       "NMHC(GT)         1679\n",
       "C6H6(GT)         1679\n",
       "PT08.S2(NMHC)    1679\n",
       "NOx(GT)          1679\n",
       "PT08.S3(NOx)     1679\n",
       "NO2(GT)          1679\n",
       "PT08.S4(NO2)     1679\n",
       "PT08.S5(O3)      1679\n",
       "T                1679\n",
       "RH               1679\n",
       "AH               1679\n",
       "dtype: int64"
      ]
     },
     "execution_count": 23,
     "metadata": {},
     "output_type": "execute_result"
    }
   ],
   "source": [
    "(final[final['CO(GT)']==-200].count())"
   ]
  },
  {
   "cell_type": "code",
   "execution_count": 22,
   "metadata": {},
   "outputs": [
    {
     "data": {
      "text/plain": [
       "(9300,)"
      ]
     },
     "execution_count": 22,
     "metadata": {},
     "output_type": "execute_result"
    }
   ],
   "source": [
    "final['CO(GT)'].shape"
   ]
  },
  {
   "cell_type": "code",
   "execution_count": 24,
   "metadata": {},
   "outputs": [
    {
     "data": {
      "text/plain": [
       "0.18053763440860215"
      ]
     },
     "execution_count": 24,
     "metadata": {},
     "output_type": "execute_result"
    }
   ],
   "source": [
    "1679/9300"
   ]
  },
  {
   "cell_type": "code",
   "execution_count": 20,
   "metadata": {},
   "outputs": [
    {
     "data": {
      "text/plain": [
       "120900"
      ]
     },
     "execution_count": 20,
     "metadata": {},
     "output_type": "execute_result"
    }
   ],
   "source": [
    "9300*13"
   ]
  },
  {
   "cell_type": "code",
   "execution_count": 21,
   "metadata": {},
   "outputs": [
    {
     "data": {
      "text/plain": [
       "0.1376509511993383"
      ]
     },
     "execution_count": 21,
     "metadata": {},
     "output_type": "execute_result"
    }
   ],
   "source": [
    "#missing%\n",
    "16642/120900"
   ]
  },
  {
   "cell_type": "code",
   "execution_count": 137,
   "metadata": {},
   "outputs": [],
   "source": [
    "activityTrain=final[final['Month'].isin([3,4,6,8,9,11,12,13,15,16])]\n",
    "activityVal=final[final['Month'].isin([5])]\n",
    "activityTest=final[final['Month'].isin([7,10,14])]"
   ]
  },
  {
   "cell_type": "code",
   "execution_count": 138,
   "metadata": {},
   "outputs": [],
   "source": [
    "#maskTrain = pd.DataFrame(np.ones((activityTrain.shape[0], activityTrain.shape[1])),columns=activityTrain.columns)\n",
    "#maskTrain['Time']=activityTrain['Time']"
   ]
  },
  {
   "cell_type": "code",
   "execution_count": 139,
   "metadata": {},
   "outputs": [],
   "source": [
    "maskTrain=activityTrain[['CO(GT)','Date','Time']].copy()\n",
    "maskTrain[maskTrain['CO(GT)']!=-200]=1\n",
    "maskTrain[maskTrain['CO(GT)']==-200]=0\n",
    "maskTrain[['Date','Time']]=activityTrain[['Date','Time']].copy()"
   ]
  },
  {
   "cell_type": "code",
   "execution_count": 140,
   "metadata": {},
   "outputs": [],
   "source": [
    "maskVal=activityVal[['CO(GT)','Date','Time']].copy()\n",
    "maskVal[maskVal['CO(GT)']!=-200]=1\n",
    "maskVal[maskVal['CO(GT)']==-200]=0\n",
    "maskVal[['Date','Time']]=activityVal[['Date','Time']].copy()"
   ]
  },
  {
   "cell_type": "code",
   "execution_count": 141,
   "metadata": {},
   "outputs": [],
   "source": [
    "maskTest=activityTest[['CO(GT)','Date','Time']].copy()\n",
    "maskTest[maskTest['CO(GT)']!=-200]=1\n",
    "maskTest[maskTest['CO(GT)']==-200]=0\n",
    "maskTest[['Date','Time']]=activityTest[['Date','Time']].copy()"
   ]
  },
  {
   "cell_type": "code",
   "execution_count": 142,
   "metadata": {},
   "outputs": [
    {
     "data": {
      "text/html": [
       "<div>\n",
       "<style scoped>\n",
       "    .dataframe tbody tr th:only-of-type {\n",
       "        vertical-align: middle;\n",
       "    }\n",
       "\n",
       "    .dataframe tbody tr th {\n",
       "        vertical-align: top;\n",
       "    }\n",
       "\n",
       "    .dataframe thead th {\n",
       "        text-align: right;\n",
       "    }\n",
       "</style>\n",
       "<table border=\"1\" class=\"dataframe\">\n",
       "  <thead>\n",
       "    <tr style=\"text-align: right;\">\n",
       "      <th></th>\n",
       "      <th>CO(GT)</th>\n",
       "      <th>Date</th>\n",
       "      <th>Time</th>\n",
       "    </tr>\n",
       "  </thead>\n",
       "  <tbody>\n",
       "    <tr>\n",
       "      <th>1230</th>\n",
       "      <td>1.0</td>\n",
       "      <td>5/1/2004</td>\n",
       "      <td>0:00:00</td>\n",
       "    </tr>\n",
       "    <tr>\n",
       "      <th>1231</th>\n",
       "      <td>1.0</td>\n",
       "      <td>5/1/2004</td>\n",
       "      <td>1:00:00</td>\n",
       "    </tr>\n",
       "    <tr>\n",
       "      <th>1232</th>\n",
       "      <td>1.0</td>\n",
       "      <td>5/1/2004</td>\n",
       "      <td>2:00:00</td>\n",
       "    </tr>\n",
       "    <tr>\n",
       "      <th>1233</th>\n",
       "      <td>1.0</td>\n",
       "      <td>5/1/2004</td>\n",
       "      <td>3:00:00</td>\n",
       "    </tr>\n",
       "    <tr>\n",
       "      <th>1234</th>\n",
       "      <td>0.0</td>\n",
       "      <td>5/1/2004</td>\n",
       "      <td>4:00:00</td>\n",
       "    </tr>\n",
       "  </tbody>\n",
       "</table>\n",
       "</div>"
      ],
      "text/plain": [
       "      CO(GT)      Date     Time\n",
       "1230     1.0  5/1/2004  0:00:00\n",
       "1231     1.0  5/1/2004  1:00:00\n",
       "1232     1.0  5/1/2004  2:00:00\n",
       "1233     1.0  5/1/2004  3:00:00\n",
       "1234     0.0  5/1/2004  4:00:00"
      ]
     },
     "execution_count": 142,
     "metadata": {},
     "output_type": "execute_result"
    }
   ],
   "source": [
    "maskVal.head()"
   ]
  },
  {
   "cell_type": "code",
   "execution_count": 143,
   "metadata": {},
   "outputs": [
    {
     "name": "stdout",
     "output_type": "stream",
     "text": [
      "0\n"
     ]
    }
   ],
   "source": [
    "print(activityTest['CO(GT)'].isna().sum())"
   ]
  },
  {
   "cell_type": "code",
   "execution_count": 68,
   "metadata": {},
   "outputs": [],
   "source": [
    "activityTest=activityTest.fillna(0)"
   ]
  },
  {
   "cell_type": "code",
   "execution_count": 128,
   "metadata": {},
   "outputs": [
    {
     "data": {
      "text/html": [
       "<div>\n",
       "<style scoped>\n",
       "    .dataframe tbody tr th:only-of-type {\n",
       "        vertical-align: middle;\n",
       "    }\n",
       "\n",
       "    .dataframe tbody tr th {\n",
       "        vertical-align: top;\n",
       "    }\n",
       "\n",
       "    .dataframe thead th {\n",
       "        text-align: right;\n",
       "    }\n",
       "</style>\n",
       "<table border=\"1\" class=\"dataframe\">\n",
       "  <thead>\n",
       "    <tr style=\"text-align: right;\">\n",
       "      <th></th>\n",
       "      <th>CO(GT)</th>\n",
       "      <th>Date</th>\n",
       "      <th>Time</th>\n",
       "    </tr>\n",
       "  </thead>\n",
       "  <tbody>\n",
       "    <tr>\n",
       "      <th>0</th>\n",
       "      <td>1.0</td>\n",
       "      <td>3/10/2004</td>\n",
       "      <td>18:00:00</td>\n",
       "    </tr>\n",
       "    <tr>\n",
       "      <th>1</th>\n",
       "      <td>1.0</td>\n",
       "      <td>3/10/2004</td>\n",
       "      <td>19:00:00</td>\n",
       "    </tr>\n",
       "    <tr>\n",
       "      <th>2</th>\n",
       "      <td>1.0</td>\n",
       "      <td>3/10/2004</td>\n",
       "      <td>20:00:00</td>\n",
       "    </tr>\n",
       "    <tr>\n",
       "      <th>3</th>\n",
       "      <td>1.0</td>\n",
       "      <td>3/10/2004</td>\n",
       "      <td>21:00:00</td>\n",
       "    </tr>\n",
       "    <tr>\n",
       "      <th>4</th>\n",
       "      <td>1.0</td>\n",
       "      <td>3/10/2004</td>\n",
       "      <td>22:00:00</td>\n",
       "    </tr>\n",
       "  </tbody>\n",
       "</table>\n",
       "</div>"
      ],
      "text/plain": [
       "   CO(GT)       Date      Time\n",
       "0     1.0  3/10/2004  18:00:00\n",
       "1     1.0  3/10/2004  19:00:00\n",
       "2     1.0  3/10/2004  20:00:00\n",
       "3     1.0  3/10/2004  21:00:00\n",
       "4     1.0  3/10/2004  22:00:00"
      ]
     },
     "execution_count": 128,
     "metadata": {},
     "output_type": "execute_result"
    }
   ],
   "source": [
    "maskTrain.head()"
   ]
  },
  {
   "cell_type": "code",
   "execution_count": 144,
   "metadata": {},
   "outputs": [],
   "source": [
    "#decay\n",
    "def decay(data):\n",
    "    print(data.head())\n",
    "    data['interval']=0\n",
    "    #df=data.groupby('person_id')\n",
    "    j=0\n",
    "    for n in range(int(data.shape[0]/20)):\n",
    "        i=0\n",
    "        #print(n)\n",
    "        df_group=data.iloc[n*20:(n*20)+20,:]\n",
    "        for index, row in df_group.iterrows():#go over mask\n",
    "            if(i==0):\n",
    "                row['interval']=0\n",
    "                i=1\n",
    "            else:\n",
    "                if(prev['CO(GT)']==1):\n",
    "                    row['interval']=timedelta.total_seconds(datetime.strptime(str(row['Date'])+\" \"+str(row['Time']),\"%m/%d/%Y %H:%M:%S\")-datetime.strptime(str(prev['Date'])+\" \"+str(prev['Time']),\"%m/%d/%Y %H:%M:%S\"))\n",
    "                elif(prev['CO(GT)']==0):\n",
    "                    row['interval']=timedelta.total_seconds(datetime.strptime(str(row['Date'])+\" \"+str(row['Time']),\"%m/%d/%Y %H:%M:%S\")-datetime.strptime(str(prev['Date'])+\" \"+str(prev['Time']),\"%m/%d/%Y %H:%M:%S\"))+prev['interval']\n",
    "            prev=row\n",
    "            data.iloc[j,3]=row['interval']\n",
    "            j=j+1\n",
    "\n",
    "    data['interval'] = data['interval'].apply(lambda x: abs(x/60))\n",
    "    print(data.head())\n",
    "    return data"
   ]
  },
  {
   "cell_type": "code",
   "execution_count": 145,
   "metadata": {},
   "outputs": [],
   "source": [
    "def rdecay(data):\n",
    "    print(data.head())\n",
    "    data['intervalReverse']=0\n",
    "    j=data.shape[0]-1\n",
    "    for n in range(int(data.shape[0]/20)):\n",
    "        i=0\n",
    "        df_group=data.iloc[n*20:(n*20)+20,:]\n",
    "        df_group=df_group[::-1]\n",
    "        for index, row in df_group.iterrows():#go over mask\n",
    "            if(i==0):\n",
    "                row['intervalReverse']=0\n",
    "                i=1\n",
    "            else:\n",
    "                if(prev['CO(GT)']==1):\n",
    "                    row['intervalReverse']=timedelta.total_seconds(datetime.strptime(str(row['Date'])+\" \"+str(row['Time']),\"%m/%d/%Y %H:%M:%S\")-datetime.strptime(str(prev['Date'])+\" \"+str(prev['Time']),\"%m/%d/%Y %H:%M:%S\"))\n",
    "                elif(prev['CO(GT)']==0):\n",
    "                    row['intervalReverse']=timedelta.total_seconds(datetime.strptime(str(row['Date'])+\" \"+str(row['Time']),\"%m/%d/%Y %H:%M:%S\")-datetime.strptime(str(prev['Date'])+\" \"+str(prev['Time']),\"%m/%d/%Y %H:%M:%S\"))+prev['interval']\n",
    "            prev=row\n",
    "            data.iloc[j,4]=row['intervalReverse']\n",
    "            j=j-1\n",
    "\n",
    "    data['intervalReverse'] = data['intervalReverse'].apply(lambda x: abs(x/60))\n",
    "    print(data.head())\n",
    "    return data"
   ]
  },
  {
   "cell_type": "code",
   "execution_count": 146,
   "metadata": {},
   "outputs": [
    {
     "name": "stdout",
     "output_type": "stream",
     "text": [
      "   CO(GT)       Date      Time\n",
      "0     1.0  3/10/2004  18:00:00\n",
      "1     1.0  3/10/2004  19:00:00\n",
      "2     1.0  3/10/2004  20:00:00\n",
      "3     1.0  3/10/2004  21:00:00\n",
      "4     1.0  3/10/2004  22:00:00\n",
      "   CO(GT)       Date      Time  interval\n",
      "0     1.0  3/10/2004  18:00:00       0.0\n",
      "1     1.0  3/10/2004  19:00:00      60.0\n",
      "2     1.0  3/10/2004  20:00:00      60.0\n",
      "3     1.0  3/10/2004  21:00:00      60.0\n",
      "4     1.0  3/10/2004  22:00:00      60.0\n",
      "   CO(GT)       Date      Time  interval\n",
      "0     1.0  3/10/2004  18:00:00       0.0\n",
      "1     1.0  3/10/2004  19:00:00      60.0\n",
      "2     1.0  3/10/2004  20:00:00      60.0\n",
      "3     1.0  3/10/2004  21:00:00      60.0\n",
      "4     1.0  3/10/2004  22:00:00      60.0\n",
      "   CO(GT)       Date      Time  interval\n",
      "0     1.0  3/10/2004  18:00:00       0.0\n",
      "1     1.0  3/10/2004  19:00:00      60.0\n",
      "2     1.0  3/10/2004  20:00:00      60.0\n",
      "3     1.0  3/10/2004  21:00:00      60.0\n",
      "4     1.0  3/10/2004  22:00:00      60.0\n",
      "   CO(GT)       Date      Time  interval  intervalReverse\n",
      "0     1.0  3/10/2004  18:00:00       0.0             60.0\n",
      "1     1.0  3/10/2004  19:00:00      60.0             60.0\n",
      "2     1.0  3/10/2004  20:00:00      60.0             60.0\n",
      "3     1.0  3/10/2004  21:00:00      60.0             60.0\n",
      "4     1.0  3/10/2004  22:00:00      60.0             60.0\n"
     ]
    }
   ],
   "source": [
    "maskTrain=decay(maskTrain)\n",
    "print(maskTrain.head())\n",
    "maskTrain=rdecay(maskTrain)"
   ]
  },
  {
   "cell_type": "code",
   "execution_count": 147,
   "metadata": {},
   "outputs": [
    {
     "name": "stdout",
     "output_type": "stream",
     "text": [
      "      CO(GT)      Date     Time\n",
      "1230     1.0  5/1/2004  0:00:00\n",
      "1231     1.0  5/1/2004  1:00:00\n",
      "1232     1.0  5/1/2004  2:00:00\n",
      "1233     1.0  5/1/2004  3:00:00\n",
      "1234     0.0  5/1/2004  4:00:00\n",
      "      CO(GT)      Date     Time  interval\n",
      "1230     1.0  5/1/2004  0:00:00       0.0\n",
      "1231     1.0  5/1/2004  1:00:00      60.0\n",
      "1232     1.0  5/1/2004  2:00:00      60.0\n",
      "1233     1.0  5/1/2004  3:00:00      60.0\n",
      "1234     0.0  5/1/2004  4:00:00      60.0\n",
      "      CO(GT)      Date     Time  interval\n",
      "1230     1.0  5/1/2004  0:00:00       0.0\n",
      "1231     1.0  5/1/2004  1:00:00      60.0\n",
      "1232     1.0  5/1/2004  2:00:00      60.0\n",
      "1233     1.0  5/1/2004  3:00:00      60.0\n",
      "1234     0.0  5/1/2004  4:00:00      60.0\n",
      "      CO(GT)      Date     Time  interval\n",
      "1230     1.0  5/1/2004  0:00:00       0.0\n",
      "1231     1.0  5/1/2004  1:00:00      60.0\n",
      "1232     1.0  5/1/2004  2:00:00      60.0\n",
      "1233     1.0  5/1/2004  3:00:00      60.0\n",
      "1234     0.0  5/1/2004  4:00:00      60.0\n",
      "      CO(GT)      Date     Time  interval  intervalReverse\n",
      "1230     1.0  5/1/2004  0:00:00       0.0             60.0\n",
      "1231     1.0  5/1/2004  1:00:00      60.0             59.0\n",
      "1232     1.0  5/1/2004  2:00:00      60.0             58.0\n",
      "1233     1.0  5/1/2004  3:00:00      60.0             57.0\n",
      "1234     0.0  5/1/2004  4:00:00      60.0             56.0\n"
     ]
    }
   ],
   "source": [
    "maskVal=decay(maskVal)\n",
    "print(maskVal.head())\n",
    "maskVal=rdecay(maskVal)"
   ]
  },
  {
   "cell_type": "code",
   "execution_count": 148,
   "metadata": {},
   "outputs": [
    {
     "name": "stdout",
     "output_type": "stream",
     "text": [
      "      CO(GT)      Date     Time\n",
      "2694     1.0  7/1/2004  0:00:00\n",
      "2695     1.0  7/1/2004  1:00:00\n",
      "2696     1.0  7/1/2004  2:00:00\n",
      "2697     1.0  7/1/2004  3:00:00\n",
      "2698     1.0  7/1/2004  4:00:00\n",
      "      CO(GT)      Date     Time  interval\n",
      "2694     1.0  7/1/2004  0:00:00       0.0\n",
      "2695     1.0  7/1/2004  1:00:00      60.0\n",
      "2696     1.0  7/1/2004  2:00:00      60.0\n",
      "2697     1.0  7/1/2004  3:00:00      60.0\n",
      "2698     1.0  7/1/2004  4:00:00      60.0\n",
      "      CO(GT)      Date     Time  interval\n",
      "2694     1.0  7/1/2004  0:00:00       0.0\n",
      "2695     1.0  7/1/2004  1:00:00      60.0\n",
      "2696     1.0  7/1/2004  2:00:00      60.0\n",
      "2697     1.0  7/1/2004  3:00:00      60.0\n",
      "2698     1.0  7/1/2004  4:00:00      60.0\n",
      "      CO(GT)      Date     Time  interval\n",
      "2694     1.0  7/1/2004  0:00:00       0.0\n",
      "2695     1.0  7/1/2004  1:00:00      60.0\n",
      "2696     1.0  7/1/2004  2:00:00      60.0\n",
      "2697     1.0  7/1/2004  3:00:00      60.0\n",
      "2698     1.0  7/1/2004  4:00:00      60.0\n",
      "      CO(GT)      Date     Time  interval  intervalReverse\n",
      "2694     1.0  7/1/2004  0:00:00       0.0             60.0\n",
      "2695     1.0  7/1/2004  1:00:00      60.0             60.0\n",
      "2696     1.0  7/1/2004  2:00:00      60.0             60.0\n",
      "2697     1.0  7/1/2004  3:00:00      60.0             60.0\n",
      "2698     1.0  7/1/2004  4:00:00      60.0             60.0\n"
     ]
    }
   ],
   "source": [
    "maskTest=decay(maskTest)\n",
    "print(maskTest.head())\n",
    "maskTest=rdecay(maskTest)"
   ]
  },
  {
   "cell_type": "code",
   "execution_count": 149,
   "metadata": {},
   "outputs": [],
   "source": [
    "activityTrain.to_csv('.../aaai/data/mimic/preprocess/airTrain.csv',index=False)\n",
    "maskTrain.to_csv('.../aaai/data/mimic/preprocess/airTrainMask.csv',index=False)"
   ]
  },
  {
   "cell_type": "code",
   "execution_count": 150,
   "metadata": {},
   "outputs": [],
   "source": [
    "activityVal.to_csv('.../aaai/data/mimic/preprocess/airVal.csv',index=False)\n",
    "maskVal.to_csv('.../aaai/data/mimic/preprocess/airValMask.csv',index=False)"
   ]
  },
  {
   "cell_type": "code",
   "execution_count": 151,
   "metadata": {},
   "outputs": [],
   "source": [
    "activityTest.to_csv('.../aaai/data/mimic/preprocess/airTest.csv',index=False)\n",
    "maskTest.to_csv('.../aaai/data/mimic/preprocess/airTestMask.csv',index=False)"
   ]
  },
  {
   "cell_type": "code",
   "execution_count": null,
   "metadata": {},
   "outputs": [],
   "source": []
  }
 ],
 "metadata": {
  "kernelspec": {
   "display_name": "Python [conda env:Atena] *",
   "language": "python",
   "name": "conda-env-Atena-py"
  },
  "language_info": {
   "codemirror_mode": {
    "name": "ipython",
    "version": 3
   },
   "file_extension": ".py",
   "mimetype": "text/x-python",
   "name": "python",
   "nbconvert_exporter": "python",
   "pygments_lexer": "ipython3",
   "version": "3.7.1"
  }
 },
 "nbformat": 4,
 "nbformat_minor": 4
}
